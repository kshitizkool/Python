{
  "nbformat": 4,
  "nbformat_minor": 0,
  "metadata": {
    "colab": {
      "provenance": [],
      "authorship_tag": "ABX9TyMxLTITThRJ0q7ELXCsO2Ot",
      "include_colab_link": true
    },
    "kernelspec": {
      "name": "python3",
      "display_name": "Python 3"
    },
    "language_info": {
      "name": "python"
    }
  },
  "cells": [
    {
      "cell_type": "markdown",
      "metadata": {
        "id": "view-in-github",
        "colab_type": "text"
      },
      "source": [
        "<a href=\"https://colab.research.google.com/github/kshitizkool/Python/blob/main/Python1.ipynb\" target=\"_parent\"><img src=\"https://colab.research.google.com/assets/colab-badge.svg\" alt=\"Open In Colab\"/></a>"
      ]
    },
    {
      "cell_type": "code",
      "execution_count": 1,
      "metadata": {
        "id": "KPiyCFFoafcn"
      },
      "outputs": [],
      "source": [
        "def fac(n):\n",
        "  l=[]\n",
        "  for i in range(1,n+1):\n",
        "    if n%i==0:\n",
        "      l.append(i)\n",
        "  return (l)"
      ]
    },
    {
      "cell_type": "code",
      "source": [
        "print(fac(35))"
      ],
      "metadata": {
        "colab": {
          "base_uri": "https://localhost:8080/"
        },
        "id": "5JBv_O3rbFi0",
        "outputId": "362188bd-d0cd-4a13-e7f2-1fc2708ba0cf"
      },
      "execution_count": 3,
      "outputs": [
        {
          "output_type": "stream",
          "name": "stdout",
          "text": [
            "[1, 5, 7, 35]\n"
          ]
        }
      ]
    },
    {
      "cell_type": "code",
      "source": [
        "def prime(n):\n",
        "  return(fac(n)==[1,n])"
      ],
      "metadata": {
        "id": "sEgujwmkbJq9"
      },
      "execution_count": 6,
      "outputs": []
    },
    {
      "cell_type": "code",
      "source": [
        "def prime(n):\n",
        "  return (len(fac(n))==2)"
      ],
      "metadata": {
        "id": "c2cp96D1bUGt"
      },
      "execution_count": 8,
      "outputs": []
    },
    {
      "cell_type": "code",
      "source": [
        "print(prime(30))"
      ],
      "metadata": {
        "colab": {
          "base_uri": "https://localhost:8080/"
        },
        "id": "LpDpQFIFbe4F",
        "outputId": "84ad27bc-4813-4c60-9134-c18722939181"
      },
      "execution_count": 10,
      "outputs": [
        {
          "output_type": "stream",
          "name": "stdout",
          "text": [
            "False\n"
          ]
        }
      ]
    },
    {
      "cell_type": "markdown",
      "source": [
        "#**GCD**"
      ],
      "metadata": {
        "id": "5ZrMDUZNcaPc"
      }
    },
    {
      "cell_type": "code",
      "source": [
        "def gcd(m,n):\n",
        "  l=[]\n",
        "  for i in range(1,min(m,n)+1):\n",
        "    if m%i==0 and n%i==0:\n",
        "      l.append(i)\n",
        "  return l[-1]"
      ],
      "metadata": {
        "id": "cOhiUuHhbmHI"
      },
      "execution_count": 15,
      "outputs": []
    },
    {
      "cell_type": "code",
      "source": [
        "print(gcd(100,80))"
      ],
      "metadata": {
        "colab": {
          "base_uri": "https://localhost:8080/"
        },
        "id": "uQ2ffydxcJBu",
        "outputId": "d775996b-0766-41b2-980e-3c17cfe553bb"
      },
      "execution_count": 18,
      "outputs": [
        {
          "output_type": "stream",
          "name": "stdout",
          "text": [
            "20\n"
          ]
        }
      ]
    },
    {
      "cell_type": "code",
      "source": [
        "def gcd(m,n):\n",
        "  a,b=max(m,n),min(m,n)\n",
        "  if a%b==0:\n",
        "    return b\n",
        "  return(gcd(b,a-b))"
      ],
      "metadata": {
        "id": "p7lxTuIofA5G"
      },
      "execution_count": 30,
      "outputs": []
    },
    {
      "cell_type": "code",
      "source": [
        "print(gcd(100,80))"
      ],
      "metadata": {
        "colab": {
          "base_uri": "https://localhost:8080/"
        },
        "id": "8KfguYPmfXBb",
        "outputId": "88b7c41c-a22b-4510-90c4-50ed26c3a373"
      },
      "execution_count": 32,
      "outputs": [
        {
          "output_type": "stream",
          "name": "stdout",
          "text": [
            "20\n"
          ]
        }
      ]
    },
    {
      "cell_type": "markdown",
      "source": [
        "#Most Recent Common Factor"
      ],
      "metadata": {
        "id": "ZffD40MCdXoP"
      }
    },
    {
      "cell_type": "code",
      "source": [
        "def firstprime(m):\n",
        "  count,i,pl=0,1,[]\n",
        "  while(count<m):\n",
        "    if prime(i):\n",
        "      count,pl=count+1,pl+[i]\n",
        "    i=i+1\n",
        "    return pl"
      ],
      "metadata": {
        "id": "4oKjF6noc5X5"
      },
      "execution_count": 24,
      "outputs": []
    },
    {
      "cell_type": "code",
      "source": [
        "import math\n",
        "def prime(n):\n",
        "  res,i=True,2\n",
        "  while(res and (i<math.sqrt(n))):\n",
        "    if n%i==0:\n",
        "      res=False\n",
        "    i+=1\n",
        "  return res"
      ],
      "metadata": {
        "id": "SEe0Z2Asd31O"
      },
      "execution_count": 28,
      "outputs": []
    },
    {
      "cell_type": "code",
      "source": [
        "print(prime(12))"
      ],
      "metadata": {
        "colab": {
          "base_uri": "https://localhost:8080/"
        },
        "id": "v6QWX8yWezJ_",
        "outputId": "3b8a88ea-f04c-4084-806d-a4a1555eddfa"
      },
      "execution_count": 29,
      "outputs": [
        {
          "output_type": "stream",
          "name": "stdout",
          "text": [
            "False\n"
          ]
        }
      ]
    },
    {
      "cell_type": "markdown",
      "source": [
        "#Selection Sort"
      ],
      "metadata": {
        "id": "eJcOR6UzkHqa"
      }
    },
    {
      "cell_type": "code",
      "source": [
        "def selection(l):\n",
        "  n=len(l)\n",
        "  if n<1:\n",
        "    return l\n",
        "  for i in range(n):\n",
        "    mpos=i\n",
        "    for j in range(i+1,n):\n",
        "      if l[j]<l[mpos]:\n",
        "        mpos=j\n",
        "    l[i],l[mpos]=l[mpos],l[i]\n",
        "  return l"
      ],
      "metadata": {
        "id": "nuXYvX6Ae2UK"
      },
      "execution_count": 37,
      "outputs": []
    },
    {
      "cell_type": "code",
      "source": [
        "print(selection([1,5,3,9,4,8,4,7,11,54,64,32,58]))"
      ],
      "metadata": {
        "colab": {
          "base_uri": "https://localhost:8080/"
        },
        "id": "0mR6B8oCkoLd",
        "outputId": "b610846b-2265-447f-d803-1cd51943e7da"
      },
      "execution_count": 38,
      "outputs": [
        {
          "output_type": "stream",
          "name": "stdout",
          "text": [
            "[1, 3, 4, 4, 5, 7, 8, 9, 11, 32, 54, 58, 64]\n"
          ]
        }
      ]
    },
    {
      "cell_type": "code",
      "source": [
        "def selectionSort(array, size):\n",
        "    for ind in range(size):\n",
        "        min_index = ind\n",
        "        for j in range(ind + 1, size):\n",
        "            if array[j] < array[min_index]:\n",
        "                min_index = j\n",
        "        (array[ind], array[min_index]) = (array[min_index], array[ind])\n",
        "arr = [1,5,3,9,4,8,4,7,11,54,64,32,58]\n",
        "size = len(arr)\n",
        "selectionSort(arr, size)\n",
        "print('The array after sorting in Ascending Order by selection sort is:')\n",
        "print(arr)"
      ],
      "metadata": {
        "colab": {
          "base_uri": "https://localhost:8080/"
        },
        "id": "r59_RZ7Ek26a",
        "outputId": "a14e5cab-0298-4f95-9aa7-cd45eaa023e4"
      },
      "execution_count": 39,
      "outputs": [
        {
          "output_type": "stream",
          "name": "stdout",
          "text": [
            "The array after sorting in Ascending Order by selection sort is:\n",
            "[1, 3, 4, 4, 5, 7, 8, 9, 11, 32, 54, 58, 64]\n"
          ]
        }
      ]
    },
    {
      "cell_type": "markdown",
      "source": [
        "#Insertion Sort"
      ],
      "metadata": {
        "id": "B_nr2S8Lqfli"
      }
    },
    {
      "cell_type": "code",
      "source": [
        "def insert(l):\n",
        "  n=len(l)\n",
        "  if n<1:\n",
        "    return l\n",
        "  for i in range(n):\n",
        "    j=i\n",
        "    while(j>0 and l[j]<l[j-1]):\n",
        "      l[j],l[j-1]=l[j-1],l[j]\n",
        "      j=j-1\n",
        "  return l"
      ],
      "metadata": {
        "id": "r0QnUXeilIc0"
      },
      "execution_count": 47,
      "outputs": []
    },
    {
      "cell_type": "code",
      "source": [
        "print(insert([1,5,3,9,4,8,4,7,11,54,64,32,58]))"
      ],
      "metadata": {
        "colab": {
          "base_uri": "https://localhost:8080/"
        },
        "id": "hpistHaFq9IS",
        "outputId": "e6f00436-6151-468a-c67b-af136bd60d78"
      },
      "execution_count": 48,
      "outputs": [
        {
          "output_type": "stream",
          "name": "stdout",
          "text": [
            "[1, 3, 4, 4, 5, 7, 8, 9, 11, 32, 54, 58, 64]\n"
          ]
        }
      ]
    },
    {
      "cell_type": "markdown",
      "source": [
        "#Merge Sort"
      ],
      "metadata": {
        "id": "8IR98aQSt9Ka"
      }
    },
    {
      "cell_type": "code",
      "source": [
        "\n",
        "def merge(arr, l, m, r):\n",
        "\tn1 = m - l + 1\n",
        "\tn2 = r - m\n",
        "\tL = [0] * (n1)\n",
        "\tR = [0] * (n2)\n",
        "\tfor i in range(0, n1):\n",
        "\t\tL[i] = arr[l + i]\n",
        "\tfor j in range(0, n2):\n",
        "\t\tR[j] = arr[m + 1 + j]\n",
        "\ti = 0\t\n",
        "\tj = 0\t \n",
        "\tk = l\t \n",
        "\twhile i < n1 and j < n2:\n",
        "\t\tif L[i] <= R[j]:\n",
        "\t\t\tarr[k] = L[i]\n",
        "\t\t\ti += 1\n",
        "\t\telse:\n",
        "\t\t\tarr[k] = R[j]\n",
        "\t\t\tj += 1\n",
        "\t\tk += 1\n",
        "\twhile i < n1:\n",
        "\t\tarr[k] = L[i]\n",
        "\t\ti += 1\n",
        "\t\tk += 1\n",
        "\twhile j < n2:\n",
        "\t\tarr[k] = R[j]\n",
        "\t\tj += 1\n",
        "\t\tk += 1\n"
      ],
      "metadata": {
        "id": "vtelVBcusvvP"
      },
      "execution_count": 84,
      "outputs": []
    },
    {
      "cell_type": "code",
      "source": [
        "def mergeSort(arr, l, r):\n",
        "\tif l < r:\n",
        "\t\tm = l+(r-l)//2\n",
        "\t\tmergeSort(arr, l, m)\n",
        "\t\tmergeSort(arr, m+1, r)\n",
        "\t\tmerge(arr, l, m, r)\n",
        "arr = [12, 11, 13, 5, 6, 7]\n",
        "n = len(arr)\n",
        "print(\"Given array is\")\n",
        "for i in range(n):\n",
        "\tprint(\"%d\" % arr[i],end=\" \")\n",
        "mergeSort(arr, 0, n-1)\n",
        "print(\"\\n\\nSorted array is\")\n",
        "for i in range(n):\n",
        "\tprint(\"%d\" % arr[i],end=\" \")"
      ],
      "metadata": {
        "colab": {
          "base_uri": "https://localhost:8080/"
        },
        "id": "I8mgk-K5yPty",
        "outputId": "fa7797be-72b5-48e9-fcdb-7a39e78382df"
      },
      "execution_count": 85,
      "outputs": [
        {
          "output_type": "stream",
          "name": "stdout",
          "text": [
            "Given array is\n",
            "12 11 13 5 6 7 \n",
            "\n",
            "Sorted array is\n",
            "5 6 7 11 12 13 "
          ]
        }
      ]
    },
    {
      "cell_type": "markdown",
      "source": [
        "#Quick Sort "
      ],
      "metadata": {
        "id": "iDQ2Pti_B0CV"
      }
    },
    {
      "cell_type": "code",
      "source": [
        "def partition (a, start, end):  \n",
        "    i = (start - 1)  \n",
        "    pivot = a[end]\n",
        "    for j in range(start, end):\n",
        "        if (a[j] <= pivot):  \n",
        "            i = i + 1  \n",
        "            a[i], a[j] = a[j], a[i]  \n",
        "    a[i+1], a[end] = a[end], a[i+1]  \n",
        "    return (i + 1)  \n",
        "def quick(a, start, end): \n",
        "    if (start < end):  \n",
        "        p = partition(a, start, end) \n",
        "        quick(a, start, p - 1)  \n",
        "        quick(a, p + 1, end)\n",
        "def printArr(a):\n",
        "    for i in range(len(a)):  \n",
        "        print (a[i], end = \" \")\n",
        "a = [68, 13, 1, 49, 58]  \n",
        "print(\"Before sorting array elements are - \")  \n",
        "printArr(a)  \n",
        "quick(a, 0, len(a)-1)  \n",
        "print(\"\\nAfter sorting array elements are - \")  \n",
        "printArr(a)  "
      ],
      "metadata": {
        "colab": {
          "base_uri": "https://localhost:8080/"
        },
        "id": "pGZLkxF1yrsE",
        "outputId": "0e9019a1-19c1-4afb-9767-aedb7d6097f3"
      },
      "execution_count": 94,
      "outputs": [
        {
          "output_type": "stream",
          "name": "stdout",
          "text": [
            "Before sorting array elements are - \n",
            "68 13 1 49 58 \n",
            "After sorting array elements are - \n",
            "1 13 49 58 68 "
          ]
        }
      ]
    },
    {
      "cell_type": "code",
      "source": [],
      "metadata": {
        "id": "QnpYIadMDH9Z"
      },
      "execution_count": null,
      "outputs": []
    }
  ]
}